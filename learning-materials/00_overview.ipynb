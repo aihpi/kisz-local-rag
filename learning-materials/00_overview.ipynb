{
 "cells": [
  {
   "cell_type": "markdown",
   "id": "720c5f32",
   "metadata": {},
   "source": [
    "<div style=\"background-color: #ffffff; color: #000000; padding: 10px;\">\n",
    "<div style=\"display: flex; justify-content: space-between; align-items: center; background-color: #ffffff; color: #000000; padding: 10px;\">\n",
    "    <img src=\"../images/logo_kisz.png\" height=\"80\" style=\"margin-right: auto;\" alt=\"Logo of the AI Service Center Berlin-Brandenburg.\">\n",
    "    <img src=\"../images/logo_bmbf.jpeg\" height=\"150\" style=\"margin-left: auto;\" alt=\"Logo of the German Federal Ministry of Education and Research: Gefördert vom Bundesministerium für Bildung und Forschung.\">\n",
    "</div>\n",
    "<h1> Efficient Information Retrieval from Documents\n",
    "<h2> Local Retrieval Augmented Generation System\n",
    "</div>"
   ]
  },
  {
   "cell_type": "markdown",
   "id": "4e646c85",
   "metadata": {},
   "source": [
    "<div style=\"background-color: #f6a800; color: #ffffff; padding: 10px;\">\n",
    "    <h2> Overview"
   ]
  },
  {
   "cell_type": "markdown",
   "id": "3051dedb",
   "metadata": {},
   "source": [
    "#### A simple RAG system\n",
    "\n",
    "<img src=\"../images/ragflowchart.png\" width=\"700\" />"
   ]
  },
  {
   "cell_type": "markdown",
   "id": "dafef57b",
   "metadata": {},
   "source": [
    "<div style=\"background-color: #dd6108; color: #ffffff; padding: 10px;\">\n",
    "<h3>1. Workflow</h3>\n",
    "</div>"
   ]
  },
  {
   "cell_type": "markdown",
   "id": "9ac13b5a",
   "metadata": {},
   "source": [
    " ## • Embedding of text\n",
    "\n",
    " - Read/Load Document (txt, pdf, etc.)\n",
    "\n",
    " - Split text into chunks considering embedding limit and basic context\n",
    "\n",
    " - Encode text into vector\n",
    "\n",
    " - Find Similarity"
   ]
  },
  {
   "cell_type": "markdown",
   "id": "6479854b",
   "metadata": {},
   "source": [
    " ## &bull; Vector store\n",
    "\n",
    " - Using a Vector Database\n",
    "\n",
    " - Make a collection\n",
    "\n",
    " - Query collection. Find related text."
   ]
  },
  {
   "cell_type": "markdown",
   "id": "706398e3",
   "metadata": {},
   "source": [
    "<div style=\"background-color: #dd6108; color: #ffffff; padding: 10px;\">\n",
    "<h3>2. Query Transformations</h3>\n",
    "</div>"
   ]
  },
  {
   "cell_type": "markdown",
   "id": "37852c6e",
   "metadata": {},
   "source": [
    "- Multi Query\n",
    "- RAG-Fusion\n",
    "- Decomposition\n",
    "- Step Back\n",
    "- HyDE"
   ]
  }
 ],
 "metadata": {
  "kernelspec": {
   "display_name": "Python 3",
   "language": "python",
   "name": "python3"
  },
  "language_info": {
   "codemirror_mode": {
    "name": "ipython",
    "version": 3
   },
   "file_extension": ".py",
   "mimetype": "text/x-python",
   "name": "python",
   "nbconvert_exporter": "python",
   "pygments_lexer": "ipython3",
   "version": "3.10.12"
  }
 },
 "nbformat": 4,
 "nbformat_minor": 5
}
